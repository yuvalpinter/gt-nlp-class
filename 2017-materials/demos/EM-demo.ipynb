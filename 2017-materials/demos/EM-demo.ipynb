{
 "cells": [
  {
   "cell_type": "markdown",
   "metadata": {},
   "source": [
    "Expectation maximization demo\n",
    "===========\n",
    "\n",
    "This is an implementation of EM clustering on synthetic data."
   ]
  },
  {
   "cell_type": "code",
   "execution_count": 1,
   "metadata": {
    "collapsed": false
   },
   "outputs": [
    {
     "name": "stdout",
     "output_type": "stream",
     "text": [
      "Populating the interactive namespace from numpy and matplotlib\n"
     ]
    }
   ],
   "source": [
    "import numpy as np\n",
    "from scipy.misc import logsumexp\n",
    "import matplotlib.pyplot as plt\n",
    "%pylab inline"
   ]
  },
  {
   "cell_type": "markdown",
   "metadata": {},
   "source": [
    "Generate true data"
   ]
  },
  {
   "cell_type": "code",
   "execution_count": 2,
   "metadata": {
    "collapsed": true
   },
   "outputs": [],
   "source": [
    "V = 100\n",
    "K = 3\n",
    "N = 1000\n",
    "M = 50 #expected number of words per document; generate from a poisson distribution"
   ]
  },
  {
   "cell_type": "code",
   "execution_count": 3,
   "metadata": {
    "collapsed": false
   },
   "outputs": [],
   "source": [
    "# generate the word distribution P(w | k)\n",
    "true_theta = np.zeros((K,V))\n",
    "for k in range(K):\n",
    "    true_theta[k,] = np.random.dirichlet(0.1*np.ones(V))\n",
    "# generate the prior over classes\n",
    "true_pi = np.random.dirichlet(np.ones(K))"
   ]
  },
  {
   "cell_type": "code",
   "execution_count": 4,
   "metadata": {
    "collapsed": true
   },
   "outputs": [],
   "source": [
    "# generate the observations\n",
    "true_k = np.random.multinomial(1,true_pi,N)\n",
    "w = np.zeros((N,V))\n",
    "for i in range(N):\n",
    "    N_i = np.random.poisson(M)\n",
    "    w[i,] = np.random.multinomial(N_i,true_k[i,].dot(true_theta))"
   ]
  },
  {
   "cell_type": "code",
   "execution_count": 5,
   "metadata": {
    "collapsed": true
   },
   "outputs": [],
   "source": [
    "params = {'text.latex.preamble' : [r'\\usepackage{siunitx}', r'\\usepackage{amsmath}']}\n",
    "plt.rcParams.update(params)\n",
    "matplotlib.rc('text', usetex = True)\n",
    "matplotlib.rc('font', **{'family' : \"sans-serif\"})\n",
    "plt.rcParams.update({'figure.autolayout': True})"
   ]
  },
  {
   "cell_type": "code",
   "execution_count": 10,
   "metadata": {
    "collapsed": false
   },
   "outputs": [
    {
     "data": {
      "text/plain": [
       "(-3.4599180434485888,\n",
       " 72.459918043448596,\n",
       " -3.2658688695177402,\n",
       " 68.265868869517732)"
      ]
     },
     "execution_count": 10,
     "metadata": {},
     "output_type": "execute_result"
    },
    {
     "data": {
      "image/png": "[encoded data removed]",
      "text/plain": [
       "<matplotlib.figure.Figure at 0x7f87734443d0>"
      ]
     },
     "metadata": {},
     "output_type": "display_data"
    }
   ],
   "source": [
    "fig = plt.figure(figsize=(4,2.5));\n",
    "ax = fig.add_subplot(1,1,1);\n",
    "\n",
    "theta_comparison_0 = (true_theta[0,] / true_theta[1,] > 2.5)*1.0;\n",
    "theta_comparison_1 = (true_theta[1,] / true_theta[0,] > 2.5)*1.0;\n",
    "\n",
    "ax.scatter(np.dot(w,theta_comparison_0),\n",
    "           np.dot(w,theta_comparison_1));\n",
    "ax.set_xlabel('density of word group 1');\n",
    "ax.set_ylabel('density of word group 2');\n",
    "ax.axis('tight');\n",
    "#fig.savefig('wsi-synth-scatter.pdf')"
   ]
  },
  {
   "cell_type": "markdown",
   "metadata": {},
   "source": [
    "Now do EM"
   ]
  },
  {
   "cell_type": "code",
   "execution_count": 11,
   "metadata": {
    "collapsed": false
   },
   "outputs": [],
   "source": [
    "def initialize(K,V):\n",
    "    theta = np.random.dirichlet(np.ones(V),K)\n",
    "    pi = np.ones(K) / K\n",
    "    return theta, pi"
   ]
  },
  {
   "cell_type": "code",
   "execution_count": 12,
   "metadata": {
    "collapsed": false
   },
   "outputs": [],
   "source": [
    "def eStep(w,theta,pi):\n",
    "    # first term: log P(w | z=k)\n",
    "    # second term: log P(z=k)\n",
    "    q = w.dot(np.log(theta.T)) + np.log(pi)\n",
    "    #q = q - q.max(axis=1).reshape(q.shape[0],-1)\n",
    "    # log-normalize\n",
    "    output = np.exp(q.T - logsumexp(q,axis=1)).T\n",
    "    return output"
   ]
  },
  {
   "cell_type": "code",
   "execution_count": 13,
   "metadata": {
    "collapsed": false
   },
   "outputs": [],
   "source": [
    "def mStep(w,q,alpha=.0001):\n",
    "    # unnormalized theta\n",
    "    theta = q.T.dot(w) + alpha\n",
    "    theta = (theta.T / theta.sum(axis=1)).T\n",
    "    pi = q.sum(axis=0).T\n",
    "    pi/=sum(pi)\n",
    "    return theta,pi"
   ]
  },
  {
   "cell_type": "code",
   "execution_count": 14,
   "metadata": {
    "collapsed": true
   },
   "outputs": [],
   "source": [
    "def score(w,q,theta,pi):\n",
    "    return (q * (w.dot(np.log(theta.T)) + np.log(pi).T - np.log(q+.00000000001))).sum()"
   ]
  },
  {
   "cell_type": "code",
   "execution_count": 15,
   "metadata": {
    "collapsed": true
   },
   "outputs": [],
   "source": [
    "def scoreSimple(w,q,theta,pi):\n",
    "    eq_log_p_w = (q * w.dot(np.log(theta.T))).sum(axis=1)\n",
    "    eq_log_p_z = (q * np.log(pi).T).sum(axis=1)\n",
    "    eq_log_q_z = (q * np.log(q)).sum(axis=1)\n",
    "    return (eq_log_p_w + eq_log_p_z - eq_log_q_z).sum()"
   ]
  },
  {
   "cell_type": "code",
   "execution_count": 16,
   "metadata": {
    "collapsed": false
   },
   "outputs": [
    {
     "name": "stdout",
     "output_type": "stream",
     "text": [
      "-242017.066781 -242017.066781\n"
     ]
    }
   ],
   "source": [
    "theta,pi = initialize(K,V)\n",
    "q = eStep(w,theta,pi)\n",
    "print score(w,q,theta,pi), scoreSimple(w,q,theta,pi)"
   ]
  },
  {
   "cell_type": "code",
   "execution_count": 17,
   "metadata": {
    "collapsed": true
   },
   "outputs": [],
   "source": [
    "def em(w,K,num_its=100,verbose=True,alpha=0.0001):\n",
    "    N,V = w.shape\n",
    "    theta,pi = initialize(K,V)\n",
    "    scores = []\n",
    "    for it in range(num_its):\n",
    "        q = eStep(w,theta,pi)\n",
    "        if any(np.isnan(q)):\n",
    "            raise ValueError('why now?')\n",
    "        if verbose: print it, score(w,q,theta,pi),\n",
    "        theta,pi = mStep(w,q,alpha)\n",
    "        scores.append(score(w,q,theta,pi))\n",
    "        if verbose: print scores[-1]\n",
    "    return scores,theta,pi"
   ]
  },
  {
   "cell_type": "code",
   "execution_count": 18,
   "metadata": {
    "collapsed": false
   },
   "outputs": [
    {
     "name": "stdout",
     "output_type": "stream",
     "text": [
      "0 -232171.835312 -143644.609126\n",
      "1 -139143.810096 -137876.259714\n",
      "2 -137869.368754 -137862.528964\n",
      "3 -137862.516564 -137862.515553\n",
      "4 -137862.515553 -137862.515553\n",
      "5 -137862.515553 -137862.515553\n",
      "6 -137862.515553 -137862.515553\n",
      "7 -137862.515553 -137862.515553\n",
      "8 -137862.515553 -137862.515553\n",
      "9 -137862.515553 -137862.515553\n"
     ]
    }
   ],
   "source": [
    "em(w,5,num_its=10);"
   ]
  },
  {
   "cell_type": "code",
   "execution_count": 26,
   "metadata": {
    "collapsed": false
   },
   "outputs": [
    {
     "data": {
      "image/png": "[encoded data removed]",
      "text/plain": [
       "<matplotlib.figure.Figure at 0x7f8771a80950>"
      ]
     },
     "metadata": {},
     "output_type": "display_data"
    }
   ],
   "source": [
    "fig = plt.figure(figsize=(4.5,3))\n",
    "ax = fig.add_subplot(1,1,1)\n",
    "\n",
    "syms = ['o','v','^','<','>','1','3','8','s','p']\n",
    "for sym in syms:\n",
    "    ax.plot(em(w,3,num_its=15,verbose=False)[0],sym+'-')\n",
    "    \n",
    "ax.set_xlabel('EM iteration')\n",
    "ax.set_ylabel('expected log-likelihood lower bound')\n",
    "ax.set_title('EM variability across initializations')\n",
    "#fig.savefig('em-sensitivity.pdf')"
   ]
  },
  {
   "cell_type": "markdown",
   "metadata": {},
   "source": [
    "# Word Sense Induction #"
   ]
  },
  {
   "cell_type": "code",
   "execution_count": 27,
   "metadata": {
    "collapsed": true
   },
   "outputs": [],
   "source": [
    "datadir = 'books'"
   ]
  },
  {
   "cell_type": "code",
   "execution_count": 28,
   "metadata": {
    "collapsed": true
   },
   "outputs": [],
   "source": [
    "from glob import glob\n",
    "import os\n",
    "from collections import Counter, defaultdict"
   ]
  },
  {
   "cell_type": "code",
   "execution_count": 29,
   "metadata": {
    "collapsed": true
   },
   "outputs": [],
   "source": [
    "from nltk.tokenize import sent_tokenize, word_tokenize\n",
    "from nltk.corpus import stopwords"
   ]
  },
  {
   "cell_type": "code",
   "execution_count": 30,
   "metadata": {
    "collapsed": true
   },
   "outputs": [],
   "source": [
    "def getAllInstances(datadir,instance_getter):\n",
    "    instances = [] #list of Counters\n",
    "    for filename in glob(os.path.join(datadir,'*.txt')):\n",
    "        with open(filename) as fin:\n",
    "            instances.extend(instance_getter(fin))\n",
    "    return instances"
   ]
  },
  {
   "cell_type": "code",
   "execution_count": 31,
   "metadata": {
    "collapsed": true
   },
   "outputs": [],
   "source": [
    "def getWordNeighbors(fin,word,window_size=2):\n",
    "    outputs = []\n",
    "    def getNeighborsAux(wordlist):\n",
    "        if word in wordlist:\n",
    "            idx = wordlist.index(word)\n",
    "            neighborhood = [wordlist[i] for i in \n",
    "                            range(max(0,idx-window_size),idx) \n",
    "                            + range(idx+1,min(idx+window_size+1,len(wordlist)))]\n",
    "            return [neighborhood] + getNeighborsAux(wordlist[idx+1:])\n",
    "        return []\n",
    "    \n",
    "    for line in fin:\n",
    "        for sent in sent_tokenize(line.decode('ascii','ignore')):\n",
    "            words = [word_item.lower() for word_item in word_tokenize(sent) if word_item.isalpha()]\n",
    "            outputs.extend(getNeighborsAux(words))\n",
    "    return outputs"
   ]
  },
  {
   "cell_type": "code",
   "execution_count": 32,
   "metadata": {
    "collapsed": true
   },
   "outputs": [],
   "source": [
    "def getWholeDoc(fin,word):\n",
    "    output = []\n",
    "    whole_doc = []\n",
    "    for line in fin:\n",
    "        for sent in sent_tokenize(line.decode('ascii','ignore')):\n",
    "            whole_doc.extend([word_item.lower() for word_item in word_tokenize(sent) if word_item.isalpha()])\n",
    "    if word in whole_doc:\n",
    "        return [whole_doc]\n",
    "    return []"
   ]
  },
  {
   "cell_type": "code",
   "execution_count": 34,
   "metadata": {
    "collapsed": false
   },
   "outputs": [
    {
     "name": "stdout",
     "output_type": "stream",
     "text": [
      " The fictional town of Grantville, West Virginia (modeled on the real West Virginia town of Mannington) and its power plant are displaced in space-time, through a side effect of a mysterious alien civilization.\n",
      "A hemispherical section of land about three miles in radius measured from the town center is transported back in time and space from April 2000 to May 1631, from North America to central Germany.\n",
      "The town is thrust into the middle of the Thirty Years' War, in the German province of Thuringia in the Thuringer Wald, near the fictional German free city of Badenburg.\n",
      "This Assiti Shards effect occurs during a wedding reception, accounting for the presence of several people not native to the town, including a doctor and his daughter, a paramedic.\n",
      "Real Thuringian municipalities located close to Grantville are posited as Weimar, Jena, Saalfeld and the more remote Erfurt, Arnstadt, and Eisenach well to the south of Halle and Leipzig.\n",
      "Grantville, led by Mike Stearns, president of the local chapter of the United Mine Workers of America (UMWA), must cope with the town's space-time dislocation, the surrounding raging war, language barriers, and numerous social and political issues, including class conflict, witchcraft, feminism, the reformation and the counter-reformation, among many other factors.\n",
      "One complication is a compounding of the food shortage when the town is flooded by refugees from the war.\n",
      "The 1631 locals experience a culture shock when exposed to the mores of contemporary American society, including modern dress, sexual liberation, and boisterous American-style politics.\n",
      "Grantville struggles to survive while trying to maintain technology sundered from twenty-first century resources.\n",
      "Throughout 1631, Grantville manages to establish itself locally by forming the nascent New United States of Europe (NUS) with several local cities even as war rages around them.\n",
      "But once Count Tilly falls during the Battle of Breitenfeld outside of Leipzig, King Gustavus Adolphus rapidly moves the war theater to Franconia and Bavaria, just south of Grantville.\n",
      "This leads to the creation of the Confederated Principalities of Europe (CPoE) and some measure of security for Grantville's up-timer and down-timer populations.\n",
      "[[u'the', u'fictional', u'of', u'grantville'], [u'west', u'virginia', u'of', u'mannington'], [u'from', u'the', u'center', u'is'], [u'the', u'is', u'thrust'], [u'to', u'the', u'including', u'a'], [u'with', u'the', u'dislocation', u'the'], [u'when', u'the', u'is', u'flooded']]\n"
     ]
    }
   ],
   "source": [
    "with open('books/1632.txt') as fin:\n",
    "    for line in fin:\n",
    "        for sent in sent_tokenize(line):\n",
    "            print sent\n",
    "with open('books/1632.txt') as fin:\n",
    "    print getWordNeighbors(fin,'town',2)"
   ]
  },
  {
   "cell_type": "code",
   "execution_count": 47,
   "metadata": {
    "collapsed": true
   },
   "outputs": [],
   "source": [
    "window_size = 5\n",
    "word = 'plant'"
   ]
  },
  {
   "cell_type": "code",
   "execution_count": 48,
   "metadata": {
    "collapsed": false
   },
   "outputs": [],
   "source": [
    "instances = getAllInstances(datadir,lambda fin : getWordNeighbors(fin,word,window_size))"
   ]
  },
  {
   "cell_type": "code",
   "execution_count": 494,
   "metadata": {
    "collapsed": false
   },
   "outputs": [],
   "source": [
    "instances = getAllInstances(datadir,lambda fin : getWholeDoc(fin,word))"
   ]
  },
  {
   "cell_type": "code",
   "execution_count": 37,
   "metadata": {
    "collapsed": false
   },
   "outputs": [],
   "source": [
    "def getDataFromInstances(instances,min_count=1):\n",
    "    stoplist = stopwords.words('english')\n",
    "    counts = sum([Counter(set(inst)) for inst in instances])\n",
    "    vocab = [word for word,count in counts.iteritems() if count > min_count and word not in stoplist]\n",
    "    V = len(vocab)\n",
    "    x = np.zeros((len(instances),V))\n",
    "    for i,inst in enumerate(instances):\n",
    "        for word in inst:\n",
    "            if word in vocab:\n",
    "                x[i,vocab.index(word)] += 1\n",
    "    print x.shape\n",
    "    return x,vocab"
   ]
  },
  {
   "cell_type": "code",
   "execution_count": 49,
   "metadata": {
    "collapsed": false
   },
   "outputs": [
    {
     "name": "stdout",
     "output_type": "stream",
     "text": [
      "(54, 18)\n"
     ]
    }
   ],
   "source": [
    "x,vocab=getDataFromInstances(instances,min_count=1)"
   ]
  },
  {
   "cell_type": "code",
   "execution_count": 53,
   "metadata": {
    "collapsed": false
   },
   "outputs": [
    {
     "name": "stdout",
     "output_type": "stream",
     "text": [
      "54 (54, 18)\n"
     ]
    }
   ],
   "source": [
    "print len(instances), x.shape"
   ]
  },
  {
   "cell_type": "code",
   "execution_count": 54,
   "metadata": {
    "collapsed": false
   },
   "outputs": [
    {
     "name": "stdout",
     "output_type": "stream",
     "text": [
      "-136.358310911\n",
      "CLUSTER 0 0.312398884841 --------------------\n",
      "['nuclear', 'new', 'power', 'assembly', 'xymos', 'house', 'idea', 'network', 'tells', 'job']\n",
      "and the soviet union and plant nuclear weapons and new terrorist\n",
      "build a small house and plant a garden if he cleared\n",
      "of mannington and its power plant are displaced in through a\n",
      "\n",
      "CLUSTER 1 0.687601115159 --------------------\n",
      "['suitable', 'feeds', 'species', 'around', 'network', 'job', 'tells', 'idea', 'life', 'house']\n",
      "this the rain feeds the plant the plant feeds the animal\n",
      "the greater availability of suitable plant and animal species for domestication\n",
      "area provided it with more plant and animal species suitable for\n",
      "\n"
     ]
    }
   ],
   "source": [
    "best_score = -sys.float_info.max\n",
    "best_theta = None\n",
    "best_pi = None\n",
    "for _ in range(30):\n",
    "    scores,theta,pi = em(x,2,alpha=1.,verbose=False)\n",
    "    if scores[-1] > best_score:\n",
    "        best_score = scores[-1]\n",
    "        best_theta = theta\n",
    "        best_pi = pi\n",
    "print best_score\n",
    "base_rate = x.sum(axis=0)\n",
    "final_q = eStep(x,best_theta,best_pi)\n",
    "for k,cluster in enumerate(best_theta):\n",
    "    print 'CLUSTER',k,best_pi[k],'--------------------'\n",
    "    print [str(vocab[i]) for i in (-np.log(cluster) + np.log(base_rate)).argsort()[:10]]\n",
    "    for i in (-final_q[:,k]).argsort()[:5]:\n",
    "        if len(instances[i]) == window_size * 2:\n",
    "            print ' '.join(instances[i][:window_size]+[word]+instances[i][window_size:])\n",
    "    print ''"
   ]
  },
  {
   "cell_type": "code",
   "execution_count": 589,
   "metadata": {
    "collapsed": true
   },
   "outputs": [],
   "source": [
    "thresh = 1.5\n",
    "base_theta = x.sum(axis=0)/x.sum()\n",
    "th_0 = (best_theta[0,:] / base_theta > thresh)*1.\n",
    "th_1 = (best_theta[1,:] / base_theta > thresh)*1.\n",
    "th_2 = (best_theta[2,:] / base_theta > thresh)*1."
   ]
  },
  {
   "cell_type": "code",
   "execution_count": 593,
   "metadata": {
    "collapsed": false
   },
   "outputs": [
    {
     "data": {
      "text/plain": [
       "<matplotlib.collections.PathCollection at 0x7f414b5ac1d0>"
      ]
     },
     "execution_count": 593,
     "metadata": {},
     "output_type": "execute_result"
    },
    {
     "data": {
      "image/png": "[encoded data removed]",
      "text/plain": [
       "<matplotlib.figure.Figure at 0x7f414baacfd0>"
      ]
     },
     "metadata": {},
     "output_type": "display_data"
    }
   ],
   "source": [
    "scatter(np.dot(x,th_1)/x.sum(axis=1),\n",
    "        np.dot(x,th_2)/x.sum(axis=1))"
   ]
  },
  {
   "cell_type": "code",
   "execution_count": 467,
   "metadata": {
    "collapsed": false
   },
   "outputs": [
    {
     "data": {
      "text/plain": [
       "(172, 58)"
      ]
     },
     "execution_count": 467,
     "metadata": {},
     "output_type": "execute_result"
    }
   ],
   "source": [
    "x.shape"
   ]
  },
  {
   "cell_type": "code",
   "execution_count": 468,
   "metadata": {
    "collapsed": false
   },
   "outputs": [
    {
     "data": {
      "text/plain": [
       "(4, 58)"
      ]
     },
     "execution_count": 468,
     "metadata": {},
     "output_type": "execute_result"
    }
   ],
   "source": [
    "best_theta.shape"
   ]
  },
  {
   "cell_type": "code",
   "execution_count": 514,
   "metadata": {
    "collapsed": false
   },
   "outputs": [
    {
     "data": {
      "text/plain": [
       "<matplotlib.collections.PathCollection at 0x7f414d1a2c50>"
      ]
     },
     "execution_count": 514,
     "metadata": {},
     "output_type": "execute_result"
    },
    {
     "data": {
      "image/png": "[encoded data removed]",
      "text/plain": [
       "<matplotlib.figure.Figure at 0x7f414c8a7710>"
      ]
     },
     "metadata": {},
     "output_type": "display_data"
    }
   ],
   "source": [
    "scatter(np.dot(x,best_theta[0,:].T),\n",
    "        np.dot(x,best_theta[1,:].T))"
   ]
  },
  {
   "cell_type": "code",
   "execution_count": null,
   "metadata": {
    "collapsed": true
   },
   "outputs": [],
   "source": [
    "scatter(best_theta[:,3])"
   ]
  },
  {
   "cell_type": "markdown",
   "metadata": {},
   "source": [
    "# Lesk Algorithm #"
   ]
  },
  {
   "cell_type": "code",
   "execution_count": 57,
   "metadata": {
    "collapsed": true
   },
   "outputs": [],
   "source": [
    "from nltk.corpus import wordnet as wn"
   ]
  },
  {
   "cell_type": "code",
   "execution_count": 80,
   "metadata": {
    "collapsed": true
   },
   "outputs": [],
   "source": [
    "stoplist = stopwords.words('english')"
   ]
  },
  {
   "cell_type": "code",
   "execution_count": 81,
   "metadata": {
    "collapsed": false
   },
   "outputs": [],
   "source": [
    "def0 = set([word for word in wn.synsets('plant')[0].definition().split() if word not in stoplist])"
   ]
  },
  {
   "cell_type": "code",
   "execution_count": 82,
   "metadata": {
    "collapsed": false
   },
   "outputs": [],
   "source": [
    "def1 = set([word for word in wn.synsets('plant')[1].definition().split() if word not in stoplist])"
   ]
  },
  {
   "cell_type": "code",
   "execution_count": 83,
   "metadata": {
    "collapsed": false
   },
   "outputs": [],
   "source": [
    "lesk_counts = [[len(set(instance).intersection(defset)) for instance in instances] for defset in [def0,def1]]"
   ]
  },
  {
   "cell_type": "code",
   "execution_count": 85,
   "metadata": {
    "collapsed": false
   },
   "outputs": [
    {
     "data": {
      "text/plain": [
       "<matplotlib.collections.PathCollection at 0x7f876586cf10>"
      ]
     },
     "execution_count": 85,
     "metadata": {},
     "output_type": "execute_result"
    },
    {
     "data": {
      "image/png": "[encoded data removed]",
      "text/plain": [
       "<matplotlib.figure.Figure at 0x7f87658937d0>"
      ]
     },
     "metadata": {},
     "output_type": "display_data"
    }
   ],
   "source": [
    "scatter(np.array(lesk_counts[0])+0.05*np.random.randn(len(instances)),\n",
    "        np.array(lesk_counts[1])+0.0*np.random.randn(len(instances)))"
   ]
  }
 ],
 "metadata": {
  "kernelspec": {
   "display_name": "Python 2",
   "language": "python",
   "name": "python2"
  },
  "language_info": {
   "codemirror_mode": {
    "name": "ipython",
    "version": 2
   },
   "file_extension": ".py",
   "mimetype": "text/x-python",
   "name": "python",
   "nbconvert_exporter": "python",
   "pygments_lexer": "ipython2",
   "version": "2.7.9"
  }
 },
 "nbformat": 4,
 "nbformat_minor": 0
}
